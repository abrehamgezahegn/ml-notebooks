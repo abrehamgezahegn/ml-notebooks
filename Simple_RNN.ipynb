{
  "nbformat": 4,
  "nbformat_minor": 0,
  "metadata": {
    "colab": {
      "name": "Simple RNN.ipynb",
      "provenance": [],
      "authorship_tag": "ABX9TyOmJ1W5EUyD5zzpdZeXGqND",
      "include_colab_link": true
    },
    "kernelspec": {
      "name": "python3",
      "display_name": "Python 3"
    },
    "language_info": {
      "name": "python"
    }
  },
  "cells": [
    {
      "cell_type": "markdown",
      "metadata": {
        "id": "view-in-github",
        "colab_type": "text"
      },
      "source": [
        "<a href=\"https://colab.research.google.com/github/abrehamgezahegn/ml-notebooks/blob/master/Simple_RNN.ipynb\" target=\"_parent\"><img src=\"https://colab.research.google.com/assets/colab-badge.svg\" alt=\"Open In Colab\"/></a>"
      ]
    },
    {
      "cell_type": "code",
      "metadata": {
        "id": "3U5_ktyh2FED"
      },
      "source": [
        "import numpy as np\n",
        "import matplotlib.pyplot as plt\n"
      ],
      "execution_count": 2,
      "outputs": []
    },
    {
      "cell_type": "code",
      "metadata": {
        "colab": {
          "base_uri": "https://localhost:8080/",
          "height": 282
        },
        "id": "jtGTxJYj2QBT",
        "outputId": "283b34d8-1763-4f9e-ffd7-3aca4b029266"
      },
      "source": [
        "# series = np.sin(np.arange(200) * 0.1 ) + np.random.rand(200)*0.1\n",
        "\n",
        "series = np.sin(0.1*np.arange(200)) + np.random.randn(200)*0.1\n",
        "\n",
        "plt.plot(series)\n"
      ],
      "execution_count": 91,
      "outputs": [
        {
          "output_type": "execute_result",
          "data": {
            "text/plain": [
              "[<matplotlib.lines.Line2D at 0x7fc824ac9f10>]"
            ]
          },
          "metadata": {
            "tags": []
          },
          "execution_count": 91
        },
        {
          "output_type": "display_data",
          "data": {
            "image/png": "[encoded data removed]",
            "text/plain": [
              "<Figure size 432x288 with 1 Axes>"
            ]
          },
          "metadata": {
            "tags": [],
            "needs_background": "light"
          }
        }
      ]
    },
    {
      "cell_type": "code",
      "metadata": {
        "id": "Mmq09pTB4Hd7"
      },
      "source": [
        "T = 10\n",
        "X = []\n",
        "Y = []\n",
        "series_len = series.size - T\n",
        "\n",
        "\n",
        "for t in range(series_len):\n",
        "  x = series[t: T+t]\n",
        "  y =series[T+t] \n",
        "  X.append(x)\n",
        "  Y.append(y)\n",
        "\n",
        "# this is a slow way of doing it\n",
        "# while len >= 0: \n",
        "#   x = series[i:T+1]\n",
        "  # y =series[T+t] \n",
        "#   X.append(x)\n",
        "  # Y.append(y)\n",
        "#   i+=i\n",
        "#   T+=T\n",
        "#   len-=len\n",
        "\n",
        "# reshape and convert to arrar\n",
        "X = np.array(X).reshape(-1, T, 1) # Now the data should be N x T x D\n",
        "Y = np.array(Y)"
      ],
      "execution_count": 92,
      "outputs": []
    },
    {
      "cell_type": "code",
      "metadata": {
        "colab": {
          "base_uri": "https://localhost:8080/"
        },
        "id": "sYC_zmmx_0Hi",
        "outputId": "7ad34953-ca23-459c-d45e-7e4257420431"
      },
      "source": [
        "len(X)"
      ],
      "execution_count": 5,
      "outputs": [
        {
          "output_type": "execute_result",
          "data": {
            "text/plain": [
              "190"
            ]
          },
          "metadata": {
            "tags": []
          },
          "execution_count": 5
        }
      ]
    },
    {
      "cell_type": "code",
      "metadata": {
        "id": "dXRVP9zW8ZoW"
      },
      "source": [
        "from tensorflow.keras.layers import Input, SimpleRNN, Dense\n",
        "from tensorflow.keras.models import  Model\n",
        "from tensorflow.keras.optimizers import  Adam"
      ],
      "execution_count": 93,
      "outputs": []
    },
    {
      "cell_type": "code",
      "metadata": {
        "id": "HDIjoXIJ84r0"
      },
      "source": [
        "i = Input(shape=(T, 1))\n",
        "x = SimpleRNN(15, activation=None)(i)\n",
        "x = Dense(1)(x)\n",
        "\n",
        "model = Model(i,x)\n",
        "\n"
      ],
      "execution_count": 94,
      "outputs": []
    },
    {
      "cell_type": "code",
      "metadata": {
        "id": "HgzwQRXlBOKq"
      },
      "source": [
        ""
      ],
      "execution_count": null,
      "outputs": []
    },
    {
      "cell_type": "code",
      "metadata": {
        "colab": {
          "base_uri": "https://localhost:8080/"
        },
        "id": "OmhSMHTB9V15",
        "outputId": "e4fa1602-7e82-4f1f-c242-c9f442b48986"
      },
      "source": [
        "model.compile(loss=\"mse\", optimizer=Adam(learning_rate=1e-3))\n",
        "model.summary()"
      ],
      "execution_count": 95,
      "outputs": [
        {
          "output_type": "stream",
          "text": [
            "Model: \"model_5\"\n",
            "_________________________________________________________________\n",
            "Layer (type)                 Output Shape              Param #   \n",
            "=================================================================\n",
            "input_6 (InputLayer)         [(None, 10, 1)]           0         \n",
            "_________________________________________________________________\n",
            "simple_rnn_5 (SimpleRNN)     (None, 15)                255       \n",
            "_________________________________________________________________\n",
            "dense_5 (Dense)              (None, 1)                 16        \n",
            "=================================================================\n",
            "Total params: 271\n",
            "Trainable params: 271\n",
            "Non-trainable params: 0\n",
            "_________________________________________________________________\n"
          ],
          "name": "stdout"
        }
      ]
    },
    {
      "cell_type": "code",
      "metadata": {
        "colab": {
          "base_uri": "https://localhost:8080/"
        },
        "id": "XnrgbiWm9qEh",
        "outputId": "096adab1-5975-4a85-c0b5-1b7ceeeda5a2"
      },
      "source": [
        "N = len(X)\n",
        "X_train = X[0: N // 2 ]\n",
        "X_test =   X[N // 2:]\n",
        "y_train = Y[0: N // 2]\n",
        "y_test = Y[N//2:]\n",
        "\n",
        "r = model.fit(X_train , y_train , validation_data=(X_test , y_test) , epochs=100)\n",
        "\n",
        "# r = model.fit(\n",
        "#   X[:-N//2], Y[:-N//2],\n",
        "#   epochs=80,\n",
        "#   validation_data=(X[-N//2:], Y[-N//2:]),\n",
        "# )"
      ],
      "execution_count": 96,
      "outputs": [
        {
          "output_type": "stream",
          "text": [
            "Epoch 1/100\n",
            "3/3 [==============================] - 1s 137ms/step - loss: 0.2285 - val_loss: 0.0901\n",
            "Epoch 2/100\n",
            "3/3 [==============================] - 0s 24ms/step - loss: 0.0891 - val_loss: 0.0892\n",
            "Epoch 3/100\n",
            "3/3 [==============================] - 0s 22ms/step - loss: 0.0968 - val_loss: 0.0748\n",
            "Epoch 4/100\n",
            "3/3 [==============================] - 0s 24ms/step - loss: 0.0715 - val_loss: 0.0487\n",
            "Epoch 5/100\n",
            "3/3 [==============================] - 0s 24ms/step - loss: 0.0510 - val_loss: 0.0365\n",
            "Epoch 6/100\n",
            "3/3 [==============================] - 0s 27ms/step - loss: 0.0390 - val_loss: 0.0327\n",
            "Epoch 7/100\n",
            "3/3 [==============================] - 0s 29ms/step - loss: 0.0450 - val_loss: 0.0273\n",
            "Epoch 8/100\n",
            "3/3 [==============================] - 0s 25ms/step - loss: 0.0386 - val_loss: 0.0223\n",
            "Epoch 9/100\n",
            "3/3 [==============================] - 0s 29ms/step - loss: 0.0241 - val_loss: 0.0205\n",
            "Epoch 10/100\n",
            "3/3 [==============================] - 0s 27ms/step - loss: 0.0222 - val_loss: 0.0206\n",
            "Epoch 11/100\n",
            "3/3 [==============================] - 0s 25ms/step - loss: 0.0247 - val_loss: 0.0200\n",
            "Epoch 12/100\n",
            "3/3 [==============================] - 0s 28ms/step - loss: 0.0260 - val_loss: 0.0188\n",
            "Epoch 13/100\n",
            "3/3 [==============================] - 0s 29ms/step - loss: 0.0217 - val_loss: 0.0182\n",
            "Epoch 14/100\n",
            "3/3 [==============================] - 0s 25ms/step - loss: 0.0214 - val_loss: 0.0184\n",
            "Epoch 15/100\n",
            "3/3 [==============================] - 0s 29ms/step - loss: 0.0232 - val_loss: 0.0184\n",
            "Epoch 16/100\n",
            "3/3 [==============================] - 0s 26ms/step - loss: 0.0217 - val_loss: 0.0180\n",
            "Epoch 17/100\n",
            "3/3 [==============================] - 0s 32ms/step - loss: 0.0234 - val_loss: 0.0178\n",
            "Epoch 18/100\n",
            "3/3 [==============================] - 0s 29ms/step - loss: 0.0246 - val_loss: 0.0176\n",
            "Epoch 19/100\n",
            "3/3 [==============================] - 0s 27ms/step - loss: 0.0216 - val_loss: 0.0173\n",
            "Epoch 20/100\n",
            "3/3 [==============================] - 0s 25ms/step - loss: 0.0206 - val_loss: 0.0171\n",
            "Epoch 21/100\n",
            "3/3 [==============================] - 0s 33ms/step - loss: 0.0207 - val_loss: 0.0169\n",
            "Epoch 22/100\n",
            "3/3 [==============================] - 0s 28ms/step - loss: 0.0208 - val_loss: 0.0167\n",
            "Epoch 23/100\n",
            "3/3 [==============================] - 0s 28ms/step - loss: 0.0238 - val_loss: 0.0165\n",
            "Epoch 24/100\n",
            "3/3 [==============================] - 0s 32ms/step - loss: 0.0204 - val_loss: 0.0164\n",
            "Epoch 25/100\n",
            "3/3 [==============================] - 0s 28ms/step - loss: 0.0198 - val_loss: 0.0163\n",
            "Epoch 26/100\n",
            "3/3 [==============================] - 0s 28ms/step - loss: 0.0210 - val_loss: 0.0162\n",
            "Epoch 27/100\n",
            "3/3 [==============================] - 0s 29ms/step - loss: 0.0170 - val_loss: 0.0160\n",
            "Epoch 28/100\n",
            "3/3 [==============================] - 0s 26ms/step - loss: 0.0173 - val_loss: 0.0159\n",
            "Epoch 29/100\n",
            "3/3 [==============================] - 0s 27ms/step - loss: 0.0195 - val_loss: 0.0158\n",
            "Epoch 30/100\n",
            "3/3 [==============================] - 0s 28ms/step - loss: 0.0178 - val_loss: 0.0157\n",
            "Epoch 31/100\n",
            "3/3 [==============================] - 0s 24ms/step - loss: 0.0189 - val_loss: 0.0156\n",
            "Epoch 32/100\n",
            "3/3 [==============================] - 0s 25ms/step - loss: 0.0208 - val_loss: 0.0157\n",
            "Epoch 33/100\n",
            "3/3 [==============================] - 0s 36ms/step - loss: 0.0194 - val_loss: 0.0155\n",
            "Epoch 34/100\n",
            "3/3 [==============================] - 0s 26ms/step - loss: 0.0199 - val_loss: 0.0153\n",
            "Epoch 35/100\n",
            "3/3 [==============================] - 0s 26ms/step - loss: 0.0212 - val_loss: 0.0153\n",
            "Epoch 36/100\n",
            "3/3 [==============================] - 0s 26ms/step - loss: 0.0171 - val_loss: 0.0152\n",
            "Epoch 37/100\n",
            "3/3 [==============================] - 0s 25ms/step - loss: 0.0171 - val_loss: 0.0152\n",
            "Epoch 38/100\n",
            "3/3 [==============================] - 0s 26ms/step - loss: 0.0162 - val_loss: 0.0151\n",
            "Epoch 39/100\n",
            "3/3 [==============================] - 0s 26ms/step - loss: 0.0171 - val_loss: 0.0151\n",
            "Epoch 40/100\n",
            "3/3 [==============================] - 0s 31ms/step - loss: 0.0182 - val_loss: 0.0150\n",
            "Epoch 41/100\n",
            "3/3 [==============================] - 0s 26ms/step - loss: 0.0177 - val_loss: 0.0149\n",
            "Epoch 42/100\n",
            "3/3 [==============================] - 0s 26ms/step - loss: 0.0177 - val_loss: 0.0148\n",
            "Epoch 43/100\n",
            "3/3 [==============================] - 0s 25ms/step - loss: 0.0196 - val_loss: 0.0148\n",
            "Epoch 44/100\n",
            "3/3 [==============================] - 0s 29ms/step - loss: 0.0190 - val_loss: 0.0147\n",
            "Epoch 45/100\n",
            "3/3 [==============================] - 0s 30ms/step - loss: 0.0152 - val_loss: 0.0147\n",
            "Epoch 46/100\n",
            "3/3 [==============================] - 0s 29ms/step - loss: 0.0188 - val_loss: 0.0146\n",
            "Epoch 47/100\n",
            "3/3 [==============================] - 0s 29ms/step - loss: 0.0156 - val_loss: 0.0146\n",
            "Epoch 48/100\n",
            "3/3 [==============================] - 0s 30ms/step - loss: 0.0192 - val_loss: 0.0145\n",
            "Epoch 49/100\n",
            "3/3 [==============================] - 0s 26ms/step - loss: 0.0167 - val_loss: 0.0145\n",
            "Epoch 50/100\n",
            "3/3 [==============================] - 0s 26ms/step - loss: 0.0156 - val_loss: 0.0144\n",
            "Epoch 51/100\n",
            "3/3 [==============================] - 0s 27ms/step - loss: 0.0163 - val_loss: 0.0144\n",
            "Epoch 52/100\n",
            "3/3 [==============================] - 0s 27ms/step - loss: 0.0158 - val_loss: 0.0143\n",
            "Epoch 53/100\n",
            "3/3 [==============================] - 0s 25ms/step - loss: 0.0180 - val_loss: 0.0143\n",
            "Epoch 54/100\n",
            "3/3 [==============================] - 0s 25ms/step - loss: 0.0161 - val_loss: 0.0143\n",
            "Epoch 55/100\n",
            "3/3 [==============================] - 0s 28ms/step - loss: 0.0167 - val_loss: 0.0142\n",
            "Epoch 56/100\n",
            "3/3 [==============================] - 0s 27ms/step - loss: 0.0168 - val_loss: 0.0142\n",
            "Epoch 57/100\n",
            "3/3 [==============================] - 0s 29ms/step - loss: 0.0182 - val_loss: 0.0142\n",
            "Epoch 58/100\n",
            "3/3 [==============================] - 0s 35ms/step - loss: 0.0153 - val_loss: 0.0141\n",
            "Epoch 59/100\n",
            "3/3 [==============================] - 0s 31ms/step - loss: 0.0175 - val_loss: 0.0141\n",
            "Epoch 60/100\n",
            "3/3 [==============================] - 0s 26ms/step - loss: 0.0186 - val_loss: 0.0140\n",
            "Epoch 61/100\n",
            "3/3 [==============================] - 0s 28ms/step - loss: 0.0149 - val_loss: 0.0140\n",
            "Epoch 62/100\n",
            "3/3 [==============================] - 0s 29ms/step - loss: 0.0179 - val_loss: 0.0140\n",
            "Epoch 63/100\n",
            "3/3 [==============================] - 0s 25ms/step - loss: 0.0180 - val_loss: 0.0140\n",
            "Epoch 64/100\n",
            "3/3 [==============================] - 0s 26ms/step - loss: 0.0187 - val_loss: 0.0139\n",
            "Epoch 65/100\n",
            "3/3 [==============================] - 0s 29ms/step - loss: 0.0171 - val_loss: 0.0139\n",
            "Epoch 66/100\n",
            "3/3 [==============================] - 0s 25ms/step - loss: 0.0168 - val_loss: 0.0139\n",
            "Epoch 67/100\n",
            "3/3 [==============================] - 0s 25ms/step - loss: 0.0149 - val_loss: 0.0138\n",
            "Epoch 68/100\n",
            "3/3 [==============================] - 0s 27ms/step - loss: 0.0147 - val_loss: 0.0138\n",
            "Epoch 69/100\n",
            "3/3 [==============================] - 0s 32ms/step - loss: 0.0182 - val_loss: 0.0138\n",
            "Epoch 70/100\n",
            "3/3 [==============================] - 0s 34ms/step - loss: 0.0146 - val_loss: 0.0137\n",
            "Epoch 71/100\n",
            "3/3 [==============================] - 0s 35ms/step - loss: 0.0164 - val_loss: 0.0137\n",
            "Epoch 72/100\n",
            "3/3 [==============================] - 0s 29ms/step - loss: 0.0159 - val_loss: 0.0137\n",
            "Epoch 73/100\n",
            "3/3 [==============================] - 0s 26ms/step - loss: 0.0176 - val_loss: 0.0136\n",
            "Epoch 74/100\n",
            "3/3 [==============================] - 0s 29ms/step - loss: 0.0182 - val_loss: 0.0137\n",
            "Epoch 75/100\n",
            "3/3 [==============================] - 0s 28ms/step - loss: 0.0157 - val_loss: 0.0136\n",
            "Epoch 76/100\n",
            "3/3 [==============================] - 0s 34ms/step - loss: 0.0157 - val_loss: 0.0136\n",
            "Epoch 77/100\n",
            "3/3 [==============================] - 0s 33ms/step - loss: 0.0154 - val_loss: 0.0136\n",
            "Epoch 78/100\n",
            "3/3 [==============================] - 0s 28ms/step - loss: 0.0145 - val_loss: 0.0135\n",
            "Epoch 79/100\n",
            "3/3 [==============================] - 0s 26ms/step - loss: 0.0154 - val_loss: 0.0135\n",
            "Epoch 80/100\n",
            "3/3 [==============================] - 0s 28ms/step - loss: 0.0145 - val_loss: 0.0135\n",
            "Epoch 81/100\n",
            "3/3 [==============================] - 0s 27ms/step - loss: 0.0150 - val_loss: 0.0135\n",
            "Epoch 82/100\n",
            "3/3 [==============================] - 0s 31ms/step - loss: 0.0154 - val_loss: 0.0134\n",
            "Epoch 83/100\n",
            "3/3 [==============================] - 0s 28ms/step - loss: 0.0176 - val_loss: 0.0134\n",
            "Epoch 84/100\n",
            "3/3 [==============================] - 0s 33ms/step - loss: 0.0156 - val_loss: 0.0134\n",
            "Epoch 85/100\n",
            "3/3 [==============================] - 0s 29ms/step - loss: 0.0151 - val_loss: 0.0134\n",
            "Epoch 86/100\n",
            "3/3 [==============================] - 0s 25ms/step - loss: 0.0158 - val_loss: 0.0134\n",
            "Epoch 87/100\n",
            "3/3 [==============================] - 0s 25ms/step - loss: 0.0158 - val_loss: 0.0133\n",
            "Epoch 88/100\n",
            "3/3 [==============================] - 0s 31ms/step - loss: 0.0161 - val_loss: 0.0135\n",
            "Epoch 89/100\n",
            "3/3 [==============================] - 0s 25ms/step - loss: 0.0159 - val_loss: 0.0134\n",
            "Epoch 90/100\n",
            "3/3 [==============================] - 0s 24ms/step - loss: 0.0136 - val_loss: 0.0133\n",
            "Epoch 91/100\n",
            "3/3 [==============================] - 0s 26ms/step - loss: 0.0156 - val_loss: 0.0133\n",
            "Epoch 92/100\n",
            "3/3 [==============================] - 0s 28ms/step - loss: 0.0169 - val_loss: 0.0132\n",
            "Epoch 93/100\n",
            "3/3 [==============================] - 0s 29ms/step - loss: 0.0155 - val_loss: 0.0132\n",
            "Epoch 94/100\n",
            "3/3 [==============================] - 0s 27ms/step - loss: 0.0156 - val_loss: 0.0132\n",
            "Epoch 95/100\n",
            "3/3 [==============================] - 0s 28ms/step - loss: 0.0152 - val_loss: 0.0132\n",
            "Epoch 96/100\n",
            "3/3 [==============================] - 0s 26ms/step - loss: 0.0139 - val_loss: 0.0132\n",
            "Epoch 97/100\n",
            "3/3 [==============================] - 0s 27ms/step - loss: 0.0158 - val_loss: 0.0132\n",
            "Epoch 98/100\n",
            "3/3 [==============================] - 0s 26ms/step - loss: 0.0147 - val_loss: 0.0132\n",
            "Epoch 99/100\n",
            "3/3 [==============================] - 0s 26ms/step - loss: 0.0155 - val_loss: 0.0131\n",
            "Epoch 100/100\n",
            "3/3 [==============================] - 0s 29ms/step - loss: 0.0147 - val_loss: 0.0131\n"
          ],
          "name": "stdout"
        }
      ]
    },
    {
      "cell_type": "code",
      "metadata": {
        "id": "UUHAZBq5H9_o"
      },
      "source": [
        ""
      ],
      "execution_count": null,
      "outputs": []
    },
    {
      "cell_type": "code",
      "metadata": {
        "colab": {
          "base_uri": "https://localhost:8080/",
          "height": 282
        },
        "id": "rl33gZOoAw-a",
        "outputId": "d34eb4e9-b1ed-4905-fe66-3be8029e26d8"
      },
      "source": [
        "plt.plot(r.history[\"loss\"], label=\"loss\")\n",
        "plt.plot(r.history[\"val_loss\"], label=\"val_loss\")\n",
        "plt.legend()"
      ],
      "execution_count": 87,
      "outputs": [
        {
          "output_type": "execute_result",
          "data": {
            "text/plain": [
              "<matplotlib.legend.Legend at 0x7fc824d81d90>"
            ]
          },
          "metadata": {
            "tags": []
          },
          "execution_count": 87
        },
        {
          "output_type": "display_data",
          "data": {
            "image/png": "[encoded data removed]",
            "text/plain": [
              "<Figure size 432x288 with 1 Axes>"
            ]
          },
          "metadata": {
            "tags": [],
            "needs_background": "light"
          }
        }
      ]
    },
    {
      "cell_type": "code",
      "metadata": {
        "colab": {
          "base_uri": "https://localhost:8080/",
          "height": 282
        },
        "id": "gDOgh5gTBp_N",
        "outputId": "b5f8513f-ec94-4e82-e83d-3e41f08aa76f"
      },
      "source": [
        "pred = model.predict(X_test)\n",
        "pred\n",
        "\n",
        "plt.plot(y_test, label=\"test\")\n",
        "plt.plot( pred , label=\"pred\")\n",
        "plt.legend()"
      ],
      "execution_count": 88,
      "outputs": [
        {
          "output_type": "execute_result",
          "data": {
            "text/plain": [
              "<matplotlib.legend.Legend at 0x7fc824c79910>"
            ]
          },
          "metadata": {
            "tags": []
          },
          "execution_count": 88
        },
        {
          "output_type": "display_data",
          "data": {
            "image/png": "[encoded data removed]",
            "text/plain": [
              "<Figure size 432x288 with 1 Axes>"
            ]
          },
          "metadata": {
            "tags": [],
            "needs_background": "light"
          }
        }
      ]
    },
    {
      "cell_type": "code",
      "metadata": {
        "id": "CDgx0FPiCIqx"
      },
      "source": [
        "predictions = []\n",
        "\n",
        "for i in range( len(X_test)):\n",
        "  p = model.predict(X_test[i].reshape(1,-1,1))[0,0]\n",
        "  predictions.append(p)\n"
      ],
      "execution_count": 53,
      "outputs": []
    },
    {
      "cell_type": "code",
      "metadata": {
        "colab": {
          "base_uri": "https://localhost:8080/",
          "height": 282
        },
        "id": "bffeM9B3DSzW",
        "outputId": "76cd4c95-e5e0-4ea8-ff8e-53ad32364d44"
      },
      "source": [
        "len(predictions)\n",
        "plt.plot(y_test, label=\"test\")\n",
        "plt.plot(predictions , label=\"pred\")\n",
        "plt.legend()"
      ],
      "execution_count": 54,
      "outputs": [
        {
          "output_type": "execute_result",
          "data": {
            "text/plain": [
              "<matplotlib.legend.Legend at 0x7fc826d624d0>"
            ]
          },
          "metadata": {
            "tags": []
          },
          "execution_count": 54
        },
        {
          "output_type": "display_data",
          "data": {
            "image/png": "[encoded data removed]",
            "text/plain": [
              "<Figure size 432x288 with 1 Axes>"
            ]
          },
          "metadata": {
            "tags": [],
            "needs_background": "light"
          }
        }
      ]
    },
    {
      "cell_type": "code",
      "metadata": {
        "id": "apesdCTNEccE"
      },
      "source": [
        "predictions2 = []\n",
        "X_test_real = X_test[0]\n",
        "for i in range(len(X_test)-1):\n",
        "   p = model.predict(X_test_real.reshape(1,-1,1))[0,0]\n",
        "   predictions2.append(p)\n",
        "   X_test_real = np.roll(X_test_real , -1)\n",
        "   X_test_real[-1] = p\n",
        "\n",
        "\n"
      ],
      "execution_count": 97,
      "outputs": []
    },
    {
      "cell_type": "code",
      "metadata": {
        "colab": {
          "base_uri": "https://localhost:8080/",
          "height": 282
        },
        "id": "rDQXskZhHQkp",
        "outputId": "21071a7f-6e03-470f-a573-7968ff04b4d0"
      },
      "source": [
        "plt.plot(y_test, label=\"test\")\n",
        "plt.plot(predictions2 , label=\"pred\")\n",
        "plt.legend()"
      ],
      "execution_count": 98,
      "outputs": [
        {
          "output_type": "execute_result",
          "data": {
            "text/plain": [
              "<matplotlib.legend.Legend at 0x7fc82e8657d0>"
            ]
          },
          "metadata": {
            "tags": []
          },
          "execution_count": 98
        },
        {
          "output_type": "display_data",
          "data": {
            "image/png": "[encoded data removed]",
            "text/plain": [
              "<Figure size 432x288 with 1 Axes>"
            ]
          },
          "metadata": {
            "tags": [],
            "needs_background": "light"
          }
        }
      ]
    }
  ]
}