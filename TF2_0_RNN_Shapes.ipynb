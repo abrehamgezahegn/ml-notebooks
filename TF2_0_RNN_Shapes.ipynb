{
  "nbformat": 4,
  "nbformat_minor": 0,
  "metadata": {
    "colab": {
      "name": "TF2.0 RNN Shapes.ipynb",
      "provenance": [],
      "collapsed_sections": [],
      "include_colab_link": true
    },
    "kernelspec": {
      "name": "python3",
      "display_name": "Python 3"
    }
  },
  "cells": [
    {
      "cell_type": "markdown",
      "metadata": {
        "id": "view-in-github",
        "colab_type": "text"
      },
      "source": [
        "<a href=\"https://colab.research.google.com/github/abrehamgezahegn/ml-notebooks/blob/master/TF2_0_RNN_Shapes.ipynb\" target=\"_parent\"><img src=\"https://colab.research.google.com/assets/colab-badge.svg\" alt=\"Open In Colab\"/></a>"
      ]
    },
    {
      "cell_type": "code",
      "metadata": {
        "id": "KiqvBJQlDNPd",
        "colab": {
          "base_uri": "https://localhost:8080/",
          "height": 85
        },
        "outputId": "ae8784b3-3982-45eb-8e92-677af0ab2868"
      },
      "source": [
        "# Install TensorFlow\n",
        "# !pip install -q tensorflow-gpu==2.0.0-beta1\n",
        "\n",
        "try:\n",
        "  %tensorflow_version 2.x  # Colab only.\n",
        "except Exception:\n",
        "  pass\n",
        "\n",
        "import tensorflow as tf\n",
        "print(tf.__version__)"
      ],
      "execution_count": null,
      "outputs": [
        {
          "output_type": "stream",
          "text": [
            "\u001b[K     |████████████████████████████████| 348.9MB 45kB/s \n",
            "\u001b[K     |████████████████████████████████| 501kB 42.9MB/s \n",
            "\u001b[K     |████████████████████████████████| 3.1MB 43.5MB/s \n",
            "\u001b[?25h2.0.0-beta1\n"
          ],
          "name": "stdout"
        }
      ]
    },
    {
      "cell_type": "code",
      "metadata": {
        "id": "Jl8zf2weDiLM"
      },
      "source": [
        "from tensorflow.keras.layers import Input, SimpleRNN, Dense, Flatten\n",
        "from tensorflow.keras.models import Model\n",
        "from tensorflow.keras.optimizers import SGD, Adam\n",
        "\n",
        "import numpy as np\n",
        "import pandas as pd\n",
        "import matplotlib.pyplot as plt"
      ],
      "execution_count": 1,
      "outputs": []
    },
    {
      "cell_type": "code",
      "metadata": {
        "id": "LLxnQYNWFfjN"
      },
      "source": [
        "# Things you should automatically know and have memorized\n",
        "# N = number of samples\n",
        "# T = sequence length\n",
        "# D = number of input features\n",
        "# M = number of hidden units\n",
        "# K = number of output units"
      ],
      "execution_count": null,
      "outputs": []
    },
    {
      "cell_type": "code",
      "metadata": {
        "id": "XUM469Z7Dndx"
      },
      "source": [
        "# Make some data\n",
        "N = 1\n",
        "T = 10\n",
        "D = 3\n",
        "K = 2\n",
        "X = np.random.randn(N, T, D)"
      ],
      "execution_count": 2,
      "outputs": []
    },
    {
      "cell_type": "code",
      "metadata": {
        "id": "m8H_Gx_Lovxh",
        "outputId": "aa013c20-0389-40dc-c325-c8ac71c88961",
        "colab": {
          "base_uri": "https://localhost:8080/"
        }
      },
      "source": [
        "X[0].shape"
      ],
      "execution_count": 3,
      "outputs": [
        {
          "output_type": "execute_result",
          "data": {
            "text/plain": [
              "(10, 3)"
            ]
          },
          "metadata": {
            "tags": []
          },
          "execution_count": 3
        }
      ]
    },
    {
      "cell_type": "code",
      "metadata": {
        "id": "BvDXkLv_o_Gv",
        "outputId": "ef4d048c-4cd6-4a91-b69d-81378e2b0052",
        "colab": {
          "base_uri": "https://localhost:8080/"
        }
      },
      "source": [
        "X"
      ],
      "execution_count": 4,
      "outputs": [
        {
          "output_type": "execute_result",
          "data": {
            "text/plain": [
              "array([[[ 1.07201865,  1.17343129, -0.17355935],\n",
              "        [-0.60753126,  0.21396168, -0.51129369],\n",
              "        [ 1.01802125,  0.53501479, -1.3430979 ],\n",
              "        [ 1.71135956,  0.3507869 , -0.88316857],\n",
              "        [-0.07667067,  0.37413702, -0.90690355],\n",
              "        [-0.65641321,  1.20911047, -0.32320027],\n",
              "        [ 1.62606981, -0.69930773, -1.75792388],\n",
              "        [ 0.11052122, -0.8837098 ,  0.80994552],\n",
              "        [-0.6876525 ,  1.07436007,  0.16391022],\n",
              "        [ 0.13889164, -0.86498137,  0.08777094]]])"
            ]
          },
          "metadata": {
            "tags": []
          },
          "execution_count": 4
        }
      ]
    },
    {
      "cell_type": "code",
      "metadata": {
        "id": "F8ZZ1E2TDxOt"
      },
      "source": [
        "# Make an RNN\n",
        "M = 5 # number of hidden units\n",
        "i = Input(shape=(T, D))\n",
        "x = SimpleRNN(M)(i)\n",
        "x = Dense(K)(x)\n",
        "\n",
        "model = Model(i, x)"
      ],
      "execution_count": 6,
      "outputs": []
    },
    {
      "cell_type": "code",
      "metadata": {
        "id": "hLjIp7eZEApH",
        "colab": {
          "base_uri": "https://localhost:8080/"
        },
        "outputId": "fb1ccf0e-25ec-472f-fd04-f53b5c146e45"
      },
      "source": [
        "# Get the output\n",
        "Yhat = model.predict(X)\n",
        "print(Yhat)"
      ],
      "execution_count": 7,
      "outputs": [
        {
          "output_type": "stream",
          "text": [
            "[[0.35161665 0.08591088]]\n"
          ],
          "name": "stdout"
        }
      ]
    },
    {
      "cell_type": "code",
      "metadata": {
        "id": "V-3JmKEgEGc9",
        "colab": {
          "base_uri": "https://localhost:8080/"
        },
        "outputId": "9de897ec-7a1d-4aa9-c8bf-df91b83cd9bc"
      },
      "source": [
        "# See if we can replicate this output\n",
        "# Get the weights first\n",
        "model.summary()"
      ],
      "execution_count": 8,
      "outputs": [
        {
          "output_type": "stream",
          "text": [
            "Model: \"model\"\n",
            "_________________________________________________________________\n",
            "Layer (type)                 Output Shape              Param #   \n",
            "=================================================================\n",
            "input_1 (InputLayer)         [(None, 10, 3)]           0         \n",
            "_________________________________________________________________\n",
            "simple_rnn (SimpleRNN)       (None, 5)                 45        \n",
            "_________________________________________________________________\n",
            "dense (Dense)                (None, 2)                 12        \n",
            "=================================================================\n",
            "Total params: 57\n",
            "Trainable params: 57\n",
            "Non-trainable params: 0\n",
            "_________________________________________________________________\n"
          ],
          "name": "stdout"
        }
      ]
    },
    {
      "cell_type": "code",
      "metadata": {
        "id": "MaXt2V7spZxp",
        "outputId": "df3544a6-b365-4b90-d361-dcb849944118",
        "colab": {
          "base_uri": "https://localhost:8080/"
        }
      },
      "source": [
        "model.layers[1].get_weights()[0].shape"
      ],
      "execution_count": 9,
      "outputs": [
        {
          "output_type": "execute_result",
          "data": {
            "text/plain": [
              "(3, 5)"
            ]
          },
          "metadata": {
            "tags": []
          },
          "execution_count": 9
        }
      ]
    },
    {
      "cell_type": "code",
      "metadata": {
        "id": "ZRAh29dQp9Ib",
        "outputId": "999e5d72-2774-44c3-d822-2c34cf0d7c7a",
        "colab": {
          "base_uri": "https://localhost:8080/"
        }
      },
      "source": [
        "model.layers[1].get_weights()[1].shape"
      ],
      "execution_count": 28,
      "outputs": [
        {
          "output_type": "execute_result",
          "data": {
            "text/plain": [
              "(5, 5)"
            ]
          },
          "metadata": {
            "tags": []
          },
          "execution_count": 28
        }
      ]
    },
    {
      "cell_type": "code",
      "metadata": {
        "id": "2EQMGiAEp_hr",
        "outputId": "45471225-de5a-4eeb-d53f-266c654f83f5",
        "colab": {
          "base_uri": "https://localhost:8080/"
        }
      },
      "source": [
        "model.layers[1].get_weights()[2].shape\n"
      ],
      "execution_count": 29,
      "outputs": [
        {
          "output_type": "execute_result",
          "data": {
            "text/plain": [
              "(5,)"
            ]
          },
          "metadata": {
            "tags": []
          },
          "execution_count": 29
        }
      ]
    },
    {
      "cell_type": "code",
      "metadata": {
        "id": "uVmBu1egsrXu",
        "outputId": "f1474046-539b-4fcd-c93b-5084523ab55a",
        "colab": {
          "base_uri": "https://localhost:8080/"
        }
      },
      "source": [
        "model.layers[2].get_weights()"
      ],
      "execution_count": 31,
      "outputs": [
        {
          "output_type": "execute_result",
          "data": {
            "text/plain": [
              "[array([[-0.30454606, -0.32411462],\n",
              "        [-0.73438346,  0.68329024],\n",
              "        [ 0.299497  ,  0.54123557],\n",
              "        [-0.67322814,  0.25883365],\n",
              "        [-0.2507323 ,  0.06196213]], dtype=float32),\n",
              " array([0., 0.], dtype=float32)]"
            ]
          },
          "metadata": {
            "tags": []
          },
          "execution_count": 31
        }
      ]
    },
    {
      "cell_type": "code",
      "metadata": {
        "id": "Q_FobnZqEbtv",
        "colab": {
          "base_uri": "https://localhost:8080/"
        },
        "outputId": "a20990f1-a1da-46ec-87a7-f5672abc496b"
      },
      "source": [
        "# See what's returned\n",
        "model.layers[1].get_weights()"
      ],
      "execution_count": 8,
      "outputs": [
        {
          "output_type": "execute_result",
          "data": {
            "text/plain": [
              "[array([[-0.20329249,  0.47673887, -0.31710976,  0.45261496,  0.12736279],\n",
              "        [-0.27829814, -0.63242257, -0.72135246,  0.568363  ,  0.24417084],\n",
              "        [-0.24732071,  0.02224457, -0.28318483,  0.40702945, -0.6741329 ]],\n",
              "       dtype=float32),\n",
              " array([[-0.46295953, -0.4901098 ,  0.40598527,  0.6060096 ,  0.11571218],\n",
              "        [-0.06085806, -0.44619498, -0.73997635, -0.00701087,  0.49959213],\n",
              "        [-0.3421387 ,  0.74448276, -0.2279582 ,  0.4377365 ,  0.29173338],\n",
              "        [ 0.62830657,  0.0518047 ,  0.36657837,  0.14878654,  0.6678548 ],\n",
              "        [-0.51974696,  0.06135365,  0.3182236 , -0.64726543,  0.4537401 ]],\n",
              "       dtype=float32),\n",
              " array([0., 0., 0., 0., 0.], dtype=float32)]"
            ]
          },
          "metadata": {
            "tags": []
          },
          "execution_count": 8
        }
      ]
    },
    {
      "cell_type": "code",
      "metadata": {
        "id": "6FWsTeCJEjNc",
        "colab": {
          "base_uri": "https://localhost:8080/",
          "height": 34
        },
        "outputId": "43587cd2-841b-4c7d-9d18-bbdfaee46bbd"
      },
      "source": [
        "# Check their shapes\n",
        "# Should make sense\n",
        "# First output is input > hidden\n",
        "# Second output is hidden > hidden\n",
        "# Third output is bias term (vector of length M)\n",
        "a, b, c = model.layers[1].get_weights()\n",
        "print(a.shape, b.shape, c.shape)"
      ],
      "execution_count": null,
      "outputs": [
        {
          "output_type": "stream",
          "text": [
            "(3, 5) (5, 5) (5,)\n"
          ],
          "name": "stdout"
        }
      ]
    },
    {
      "cell_type": "code",
      "metadata": {
        "id": "eCU8mjC2Ew8C"
      },
      "source": [
        "Wx, Wh, bh = model.layers[1].get_weights()\n",
        "Wo, bo = model.layers[2].get_weights()"
      ],
      "execution_count": null,
      "outputs": []
    },
    {
      "cell_type": "code",
      "metadata": {
        "id": "Z7IT6dz8EV-B",
        "colab": {
          "base_uri": "https://localhost:8080/",
          "height": 34
        },
        "outputId": "fb0937f3-a3fd-4af2-e991-6ea1c3d76806"
      },
      "source": [
        "h_last = np.zeros(M) # initial hidden state\n",
        "x = X[0] # the one and only sample\n",
        "Yhats = [] # where we store the outputs\n",
        "\n",
        "for t in range(T):\n",
        "  h = np.tanh(x[t].dot( bh)Wx) + h_last.dot(Wh) +\n",
        "  y = h.dot(Wo) + bo # we only care about this value on the last iteration\n",
        "  Yhats.append(y)\n",
        "  \n",
        "  # important: assign h to h_last\n",
        "  h_last = h\n",
        "\n",
        "# print the final output\n",
        "print(Yhats[-1])"
      ],
      "execution_count": null,
      "outputs": [
        {
          "output_type": "stream",
          "text": [
            "[-0.70623848  0.45167215]\n"
          ],
          "name": "stdout"
        }
      ]
    },
    {
      "cell_type": "code",
      "metadata": {
        "id": "s42pMfj1FvnX"
      },
      "source": [
        "# Bonus exercise: calculate the output for multiple samples at once (N > 1)"
      ],
      "execution_count": null,
      "outputs": []
    }
  ]
}